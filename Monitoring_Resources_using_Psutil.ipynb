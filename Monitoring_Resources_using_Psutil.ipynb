{
  "nbformat": 4,
  "nbformat_minor": 0,
  "metadata": {
    "colab": {
      "provenance": [],
      "machine_shape": "hm",
      "include_colab_link": true
    },
    "kernelspec": {
      "name": "python3",
      "display_name": "Python 3"
    },
    "language_info": {
      "name": "python"
    }
  },
  "cells": [
    {
      "cell_type": "markdown",
      "metadata": {
        "id": "view-in-github",
        "colab_type": "text"
      },
      "source": [
        "<a href=\"https://colab.research.google.com/github/Praveen76/Monitoring-resources-using-Psutil/blob/main/Monitoring_Resources_using_Psutil.ipynb\" target=\"_parent\"><img src=\"https://colab.research.google.com/assets/colab-badge.svg\" alt=\"Open In Colab\"/></a>"
      ]
    },
    {
      "cell_type": "markdown",
      "source": [
        "## Learning Objectives"
      ],
      "metadata": {
        "id": "rXUi1yR6QpBI"
      }
    },
    {
      "cell_type": "markdown",
      "source": [
        "At the end of the experiment, you will be able to:\n",
        "\n",
        "- Understand, what does monitoring your device mean\n",
        "- Explore various functions of `psutil` package\n",
        "- Explore `multiprocessing` package\n",
        "- Evaluate the advantage of parallelism using Psutil"
      ],
      "metadata": {
        "id": "spgmBDk4QsxR"
      }
    },
    {
      "cell_type": "markdown",
      "source": [
        "### What does monitoring your device mean?"
      ],
      "metadata": {
        "id": "S1hRsonEe-ab"
      }
    },
    {
      "cell_type": "markdown",
      "source": [
        "It means to keep track of various resources in the system and their utilization\n",
        "\n",
        "\n",
        "Resources such as:\n",
        "- CPU\n",
        "- GPU\n",
        "- Memory (RAM, Swap space, and Hard disk space)\n",
        "- Disks\n",
        "- Network\n",
        "- Sensors"
      ],
      "metadata": {
        "id": "S43SA47Ze_-R"
      }
    },
    {
      "cell_type": "markdown",
      "source": [
        "### Why do we want to monitor various resources?"
      ],
      "metadata": {
        "id": "I4gh7rJlgC7g"
      }
    },
    {
      "cell_type": "markdown",
      "source": [
        "1. Monitoring and measuring allows us to understand resource allocation better\n",
        "2. Monitoring helps to regularly evaluate the performance of the critical system resources.\n",
        "3. Helps to identify the process that is using the maximum resources.\n",
        "4. It helps to evaluate if the current system's resources are sufficient to execute a particular task.\n",
        "5. To reduce escalation of issues."
      ],
      "metadata": {
        "id": "YXCAQ_engE0v"
      }
    },
    {
      "cell_type": "markdown",
      "source": [
        "### Psutil"
      ],
      "metadata": {
        "id": "jBJsQwE8hsA6"
      }
    },
    {
      "cell_type": "markdown",
      "source": [
        "Psutil is a Python cross-platform library used to access system details and process utilities.\n",
        "This library is used for system monitoring, profiling, limiting process resources, and the management of running processes.\n",
        "\n",
        "Click [here](https://pypi.org/project/psutil/) to proceed to the official documentation of Psutil."
      ],
      "metadata": {
        "id": "c8IhKM0qhuRj"
      }
    },
    {
      "cell_type": "markdown",
      "source": [
        "Let us explore various functions of Psutil."
      ],
      "metadata": {
        "id": "THfwo-6vLD_N"
      }
    },
    {
      "cell_type": "markdown",
      "source": [
        "### Setup Steps:"
      ],
      "metadata": {
        "id": "rKQ0Fvl_jNqU"
      }
    },
    {
      "cell_type": "markdown",
      "source": [
        "### Import required packages"
      ],
      "metadata": {
        "id": "MyQKyEYTRur0"
      }
    },
    {
      "cell_type": "code",
      "source": [
        "# Importing libraries\n",
        "import psutil\n",
        "import platform"
      ],
      "metadata": {
        "id": "bS5lt3DVSTAo"
      },
      "execution_count": 1,
      "outputs": []
    },
    {
      "cell_type": "markdown",
      "source": [
        "### System profile\n",
        "\n",
        "\n"
      ],
      "metadata": {
        "id": "OGlHC1XwM9oO"
      }
    },
    {
      "cell_type": "markdown",
      "source": [
        "Here we will explore the Psutil functions that helps us explore about the system."
      ],
      "metadata": {
        "id": "OTaqBW63yaUW"
      }
    },
    {
      "cell_type": "markdown",
      "source": [
        "Profile your system to know the system name, OS version, if the system is a 64-bit architecture or 32-bit architecture, number of physical and virtual cores, and the max and min frequency of the CPU."
      ],
      "metadata": {
        "id": "0dQu-hk6NC1Q"
      }
    },
    {
      "cell_type": "code",
      "source": [
        "#Windows or Linux\n",
        "uname = platform.uname()\n",
        "print(f\"System: {uname.system}\")"
      ],
      "metadata": {
        "id": "LTDe0WqfTNxM",
        "outputId": "429690f7-1bb6-48bf-ecaa-b8f0beef056b",
        "colab": {
          "base_uri": "https://localhost:8080/"
        }
      },
      "execution_count": 2,
      "outputs": [
        {
          "output_type": "stream",
          "name": "stdout",
          "text": [
            "System: Linux\n"
          ]
        }
      ]
    },
    {
      "cell_type": "code",
      "source": [
        "# System name\n",
        "print(f\"Node Name: {uname.node}\")"
      ],
      "metadata": {
        "id": "oASnVEpxTd1L",
        "outputId": "f146ab20-d606-4fec-d9fb-445dce00b55e",
        "colab": {
          "base_uri": "https://localhost:8080/"
        }
      },
      "execution_count": 3,
      "outputs": [
        {
          "output_type": "stream",
          "name": "stdout",
          "text": [
            "Node Name: 205375c2980f\n"
          ]
        }
      ]
    },
    {
      "cell_type": "code",
      "source": [
        "# OS release version like  10(Windows) or 5.4.0-72-generic(linux)\n",
        "print(f\"Release: {uname.release}\")"
      ],
      "metadata": {
        "id": "OaJZB4mgTmwC",
        "outputId": "281659bd-f160-499e-a4ab-265b09b97c16",
        "colab": {
          "base_uri": "https://localhost:8080/"
        }
      },
      "execution_count": 4,
      "outputs": [
        {
          "output_type": "stream",
          "name": "stdout",
          "text": [
            "Release: 6.1.58+\n"
          ]
        }
      ]
    },
    {
      "cell_type": "code",
      "source": [
        "print(f\"Version: {uname.version}\")"
      ],
      "metadata": {
        "id": "ltrJxgASTrmJ",
        "outputId": "27cc2a33-df43-469c-f439-4ee333bd50c1",
        "colab": {
          "base_uri": "https://localhost:8080/"
        }
      },
      "execution_count": 5,
      "outputs": [
        {
          "output_type": "stream",
          "name": "stdout",
          "text": [
            "Version: #1 SMP PREEMPT_DYNAMIC Sat Nov 18 15:31:17 UTC 2023\n"
          ]
        }
      ]
    },
    {
      "cell_type": "code",
      "source": [
        "# machine can be AMD64 or x86-64\n",
        "print(f\"Machine: {uname.machine}\")"
      ],
      "metadata": {
        "id": "8xVRnYS4Tvbd",
        "outputId": "19fe3e1a-154a-439c-bd3f-d017ad9ada21",
        "colab": {
          "base_uri": "https://localhost:8080/"
        }
      },
      "execution_count": 6,
      "outputs": [
        {
          "output_type": "stream",
          "name": "stdout",
          "text": [
            "Machine: x86_64\n"
          ]
        }
      ]
    },
    {
      "cell_type": "code",
      "source": [
        "#  Intel64 Family 6 or x86_64\n",
        "print(f\"Processor: {uname.processor}\")"
      ],
      "metadata": {
        "id": "fIYZtCa3T1Xt",
        "outputId": "b9cef115-c00a-4843-d8be-b2a25e930383",
        "colab": {
          "base_uri": "https://localhost:8080/"
        }
      },
      "execution_count": 7,
      "outputs": [
        {
          "output_type": "stream",
          "name": "stdout",
          "text": [
            "Processor: x86_64\n"
          ]
        }
      ]
    },
    {
      "cell_type": "code",
      "source": [
        "#Number of physical cores\n",
        "print(\"Physical cores:\", psutil.cpu_count(logical=False))"
      ],
      "metadata": {
        "id": "oFQ1-bP33LKT",
        "outputId": "efd7a0b0-cd2a-4564-fb7c-3ffe37fbfad6",
        "colab": {
          "base_uri": "https://localhost:8080/"
        }
      },
      "execution_count": 8,
      "outputs": [
        {
          "output_type": "stream",
          "name": "stdout",
          "text": [
            "Physical cores: 4\n"
          ]
        }
      ]
    },
    {
      "cell_type": "code",
      "source": [
        "# Number of total cores: Physical, and logical cores.\n",
        "# Logical cores: they can execute their own set of instruction concurrently, and use a shared set of threads, cache, etc.\n",
        "print(\"Total cores:\", psutil.cpu_count(logical=True))"
      ],
      "metadata": {
        "id": "62_JA_gx3aoJ",
        "outputId": "983d907b-f1a4-4455-8675-1679ae74042a",
        "colab": {
          "base_uri": "https://localhost:8080/"
        }
      },
      "execution_count": null,
      "outputs": [
        {
          "output_type": "stream",
          "name": "stdout",
          "text": [
            "Total cores: 8\n"
          ]
        }
      ]
    },
    {
      "cell_type": "markdown",
      "source": [
        "* user – time spent by normal processes executing in user mode.\n",
        "* system – time spent by processes executing in kernel mode.\n",
        "* idle – time when system was idle.\n",
        "* nice – time spent by priority processes executing in user mode. Simply put, how much CPU time is consumed by processes when processes are running in a lower priority level compared to other processes.\n",
        "* iowait – time spent waiting for I/O to complete. This is not accounted in idle time counter.\n",
        "* irq – time spent for servicing hardware interrupts.\n",
        "* softirq – time spent for servicing software interrupts.\n",
        "* steal – time spent by other operating systems running in a virtualized environment.\n",
        "* guest – time spent running a virtual CPU for guest operating systems under the control of the Linux kernel."
      ],
      "metadata": {
        "id": "wxT98sb37UsO"
      }
    },
    {
      "cell_type": "code",
      "source": [
        "print(psutil.cpu_times())"
      ],
      "metadata": {
        "id": "h-WVLHPQ7GjP"
      },
      "execution_count": null,
      "outputs": []
    },
    {
      "cell_type": "markdown",
      "source": [
        "This function calculates the current system-wide percentage CPU utilization. It is recommended to provide time interval (seconds) as parameter to the function over which the average CPU usage will be calculated; ignoring the interval parameter could result in high variation in usage values."
      ],
      "metadata": {
        "id": "omjty3C0760v"
      }
    },
    {
      "cell_type": "code",
      "source": [
        "#Calculate CPU % utilization for over last N seconds. Here N=1 second.\n",
        "print(psutil.cpu_percent(1))"
      ],
      "metadata": {
        "id": "b_5uSgda7uYY",
        "outputId": "0321da2e-4aa8-4dcb-bee2-8733062752d7",
        "colab": {
          "base_uri": "https://localhost:8080/"
        }
      },
      "execution_count": 12,
      "outputs": [
        {
          "output_type": "stream",
          "name": "stdout",
          "text": [
            "0.7\n"
          ]
        }
      ]
    },
    {
      "cell_type": "markdown",
      "source": [
        "* ctx_switches – number of context switches since boot.\n",
        "* interrupts – number of interrupts since boot.\n",
        "* soft_interrupts – number of software interrupts since boot.\n",
        "* syscalls – number of system calls since boot. Always set to 0 in Ubuntu."
      ],
      "metadata": {
        "id": "i6JwFHPv8TTX"
      }
    },
    {
      "cell_type": "code",
      "source": [
        "print(\"CPU Statistics\", psutil.cpu_stats())"
      ],
      "metadata": {
        "id": "RDoL2trS8M2B",
        "outputId": "5a05c2f0-ce86-4731-cc39-f2c865357c9f",
        "colab": {
          "base_uri": "https://localhost:8080/"
        }
      },
      "execution_count": 10,
      "outputs": [
        {
          "output_type": "stream",
          "name": "stdout",
          "text": [
            "CPU Statistics scpustats(ctx_switches=3653426, interrupts=3557674, soft_interrupts=2143524, syscalls=0)\n"
          ]
        }
      ]
    },
    {
      "cell_type": "code",
      "source": [
        "print(psutil.boot_time())"
      ],
      "metadata": {
        "id": "JOjYAJ2DEbEO",
        "outputId": "e65f6425-a7f7-48da-9f79-1691a6a4b7fa",
        "colab": {
          "base_uri": "https://localhost:8080/"
        }
      },
      "execution_count": 11,
      "outputs": [
        {
          "output_type": "stream",
          "name": "stdout",
          "text": [
            "1715683555.0\n"
          ]
        }
      ]
    },
    {
      "cell_type": "markdown",
      "source": [
        " This function returns the system boot time which is expressed in seconds since the epoch."
      ],
      "metadata": {
        "id": "1OJEcJjQEhkt"
      }
    },
    {
      "cell_type": "markdown",
      "source": [
        "### Monitoring and Limiting Memory"
      ],
      "metadata": {
        "id": "_Y6wYXpvxIgQ"
      }
    },
    {
      "cell_type": "markdown",
      "source": [
        "Virtual memory is a combination of RAM and the disk space that all the processes running on the CPU use, while Swap space is the portion of virtual memory on the hard disk used by the running processes when the RAM is full."
      ],
      "metadata": {
        "id": "3e2qHmGAxTLw"
      }
    },
    {
      "cell_type": "markdown",
      "source": [
        "* total – total physical memory excluding swap.\n",
        "* available – the memory that can be given instantly to processes without the system going into swap.\n",
        "* used – memory used.\n",
        "* free – memory not used at and is readily available\n",
        "* active – memory currently in use or very recently used.\n",
        "* inactive – memory that is marked as not used.\n",
        "* buffers – cache data like file system metadata.\n",
        "* cached – cached data\n",
        "* shared – memory that may be accessed by multiple processes."
      ],
      "metadata": {
        "id": "c58Qgs0E_XVd"
      }
    },
    {
      "cell_type": "code",
      "source": [
        "print(psutil.virtual_memory())"
      ],
      "metadata": {
        "id": "CtTSBek1-bA8"
      },
      "execution_count": null,
      "outputs": []
    },
    {
      "cell_type": "markdown",
      "source": [
        "* total – total swap memory in bytes\n",
        "* used – used swap memory in bytes\n",
        "* free – free swap memory in bytes\n",
        "* percent – the percentage usage that is calculated as (total – available) / total * 100\n",
        "* sin – the number of bytes the system has swapped in from disk\n",
        "* sout – the number of bytes the system has swapped out from disk"
      ],
      "metadata": {
        "id": "9M6Q5IYx_nIV"
      }
    },
    {
      "cell_type": "code",
      "source": [
        "print(psutil.swap_memory())"
      ],
      "metadata": {
        "id": "V-c5C3SP_jdi"
      },
      "execution_count": null,
      "outputs": []
    },
    {
      "cell_type": "code",
      "source": [
        "def get_size(bytes, suffix=\"B\"):\n",
        "    \"\"\"\n",
        "    Scale bytes to its proper format- KB, MB, GB, TB and PB\n",
        "    \"\"\"\n",
        "    factor = 1024\n",
        "    for unit in [\"\", \"K\", \"M\", \"G\", \"T\", \"P\"]:\n",
        "        if bytes < factor:\n",
        "            return f\"{bytes:.2f}{unit}{suffix}\"\n",
        "        bytes /= factor"
      ],
      "metadata": {
        "id": "75p_NTu6zBgh"
      },
      "execution_count": null,
      "outputs": []
    },
    {
      "cell_type": "code",
      "source": [
        "print(\"Virtual memory\")\n",
        "svmem = psutil.virtual_memory()\n",
        "print(f\"Total: {get_size(svmem.total)}\")\n",
        "print(f\"Available: {get_size(svmem.available)}\")\n",
        "print(f\"Used: {get_size(svmem.used)}\")\n",
        "print(f\"Percentage: {svmem.percent}%\")\n"
      ],
      "metadata": {
        "id": "HHOeRICOT51i"
      },
      "execution_count": null,
      "outputs": []
    },
    {
      "cell_type": "code",
      "source": [
        "# get the swap memory details (if exists)\n",
        "swap = psutil.swap_memory()\n",
        "print(\"SWAP memory\")\n",
        "print(f\"Total: {get_size(swap.total)}\")\n",
        "print(f\"Free: {get_size(swap.free)}\")\n",
        "print(f\"Used: {get_size(swap.used)}\")\n",
        "print(f\"Percentage: {swap.percent}%\")"
      ],
      "metadata": {
        "id": "0iCW2vU4T5y6"
      },
      "execution_count": null,
      "outputs": []
    },
    {
      "cell_type": "markdown",
      "source": [
        "### Monitoring and Limiting Hard Disk Space"
      ],
      "metadata": {
        "id": "dmIexmaC1flj"
      }
    },
    {
      "cell_type": "markdown",
      "source": [
        "This function provides the details of all mounted disk partitions as a list of tuples including device, mount point and filesystem type."
      ],
      "metadata": {
        "id": "Gmg3Gj_fBDxR"
      }
    },
    {
      "cell_type": "code",
      "source": [
        "print(psutil.disk_partitions())"
      ],
      "metadata": {
        "id": "1ayZORSqBEnU"
      },
      "execution_count": null,
      "outputs": []
    },
    {
      "cell_type": "markdown",
      "source": [
        " This function gives disk usage statistics as a tuple for a given path. Total, used and free space are expressed in bytes, along with the percentage usage."
      ],
      "metadata": {
        "id": "0znGv7uNBZRu"
      }
    },
    {
      "cell_type": "code",
      "source": [
        "print(psutil.disk_usage('/'))"
      ],
      "metadata": {
        "id": "JsA7Wg6cBU-t"
      },
      "execution_count": null,
      "outputs": []
    },
    {
      "cell_type": "code",
      "source": [
        "print( \"Hard Disk Information\")\n",
        "print(\"Partitions and Usage:\")\n",
        "# get all disk partitions on the device\n",
        "partitions = psutil.disk_partitions()\n",
        "for partition in partitions:\n",
        "    print(\"Device:\",partition.device)\n",
        "    print(\"Partition Mountpoint: \",partition.mountpoint)\n",
        "    print(\"Partition File system type\",partition.fstype)\n",
        "    try:\n",
        "        partition_usage = psutil.disk_usage(partition.mountpoint)\n",
        "    except PermissionError:\n",
        "        continue\n",
        "    print(\"Total Size: \", get_size(partition_usage.total))\n",
        "    print(\"Used Space: \", get_size(partition_usage.used))\n",
        "    print(\"Free hard disk Space\", get_size(partition_usage.free))\n",
        "    print(\"Hard disk Used Percentage: \", partition_usage.percent, \"%\")\n",
        "    if(partition_usage.percent >82):\n",
        "        print(\"Disk space nearing full\")"
      ],
      "metadata": {
        "id": "sa7J9umqzfTi"
      },
      "execution_count": null,
      "outputs": []
    },
    {
      "cell_type": "markdown",
      "source": [
        "### Monitoring and Limiting Network Usage"
      ],
      "metadata": {
        "id": "u8fmsdwh4F7u"
      }
    },
    {
      "cell_type": "markdown",
      "source": [
        "All network protocols are associated with a specific address family. An address family provides services like packet fragmentation and reassembly, routing, addressing, and transporting. The address family provides interprocess communication between processes that run on the same system or different systems."
      ],
      "metadata": {
        "id": "G6GSCkFu4vQz"
      }
    },
    {
      "cell_type": "markdown",
      "source": [
        "An address family is normally comprised of several protocols, one per socket type."
      ],
      "metadata": {
        "id": "CQoWeAK84yCb"
      }
    },
    {
      "cell_type": "markdown",
      "source": [
        "Different networks address families and their purpose:\n",
        "* AF_INET: IPv4 Internet protocols\n",
        "* AF_INET6: IPv6 Internet protocols\n",
        "* AF_NETLINK: Kernel user interface device\n",
        "* AF_PACKET: Low-level packet interface"
      ],
      "metadata": {
        "id": "FZqQ0Kkc42oM"
      }
    },
    {
      "cell_type": "markdown",
      "source": [
        "* family – the socket family, either AF_INET or AF_INET6\n",
        "* address – the primary NIC address\n",
        "* netmask – the netmask address\n",
        "* broadcast – the broadcast address.\n",
        "* ptp – “point to point” it is the destination address on a point to point interface."
      ],
      "metadata": {
        "id": "5QIAXPV9D62q"
      }
    },
    {
      "cell_type": "code",
      "source": [
        "print(psutil.net_if_addrs())"
      ],
      "metadata": {
        "id": "RoutNlzHD3Up"
      },
      "execution_count": null,
      "outputs": []
    },
    {
      "cell_type": "code",
      "source": [
        "print( \"Network Information\")\n",
        "# get all network interfaces (virtual and physical)\n",
        "if_addrs = psutil.net_if_addrs()\n",
        "for interface_name, interface_addresses in if_addrs.items():\n",
        "    for address in interface_addresses:\n",
        "        print(\" Interface: \", interface_name)\n",
        "        if str(address.family) == 'AddressFamily.AF_INET':\n",
        "            print(\"  IP Address: \", address.address)\n",
        "            print(\"  Netmask: \", address.netmask)\n",
        "            print(\"  Broadcast IPv4: \",address.broadcast)\n",
        "        elif str(address.family) == 'AddressFamily.AF_PACKET':\n",
        "            print(\"  MAC Address: {address.address}\")\n",
        "            print(\"  Netmask: {address.netmask}\")\n",
        "            print(\"  Broadcast MAC: {address.broadcast}\")\n",
        "        elif str(address.family) == 'AddressFamily.AF_INET6':\n",
        "            print(\"  IP Address: \", address.address)\n",
        "            print(\"  Netmask: \", address.netmask)\n",
        "            print(\"  Broadcast IPv6: \",address.broadcast)"
      ],
      "metadata": {
        "id": "gaVwcCCwzf70"
      },
      "execution_count": null,
      "outputs": []
    },
    {
      "cell_type": "markdown",
      "source": [
        " Return system-wide network I/O statistics like bytes sent, bytes received, incoming packets that were dropped, or outgoing packets dropped"
      ],
      "metadata": {
        "id": "yk2ruqSa5KcN"
      }
    },
    {
      "cell_type": "markdown",
      "source": [
        "* bytes_sent – number of bytes sent\n",
        "* bytes_recv – number of bytes received\n",
        "* packets_sent – number of packets sent\n",
        "* packets_recv – number of packets received\n",
        "* errin – total number of errors while receiving\n",
        "* errout – total number of errors while sending\n",
        "* dropin – total number of incoming packets which were dropped\n",
        "* dropout – total number of outgoing packets which were dropped"
      ],
      "metadata": {
        "id": "JfJn-bvPCvQL"
      }
    },
    {
      "cell_type": "code",
      "source": [
        "print(psutil.net_io_counters())"
      ],
      "metadata": {
        "id": "i_wp0SqmCrA0"
      },
      "execution_count": null,
      "outputs": []
    },
    {
      "cell_type": "code",
      "source": [
        "net_io = psutil.net_io_counters()\n",
        "print(\"Total Bytes Sent: \", get_size(net_io.bytes_sent))\n",
        "print(\"Total Bytes Received: \", get_size(net_io.bytes_recv))\n",
        "print(\"Total outgoing packets dropped: \", net_io.dropin)\n",
        "print(\"Total incoming packets dropped:\", net_io.dropout)\n",
        "print(\"Total outgoing errors: \", net_io.errout)\n",
        "print(\"Total incoming errors:\", net_io.errin)"
      ],
      "metadata": {
        "id": "LHdmkaG6zgAs"
      },
      "execution_count": null,
      "outputs": []
    },
    {
      "cell_type": "markdown",
      "source": [
        "This function gives the list of socket connections of a system as a named tuples."
      ],
      "metadata": {
        "id": "9l8eRVJlDFrV"
      }
    },
    {
      "cell_type": "markdown",
      "source": [
        "* fd – the socket file descriptor.\n",
        "* family – the socket family, either AF_INET, AF_INET6 or AF_UNIX.\n",
        "* type – the socket type, either SOCK_STREAM, SOCK_DGRAM or SOCK_SEQPACKET.\n",
        "* laddr – the local address as a (ip, port) named tuple\n",
        "* raddr – the remote address as a (ip, port) named tuple\n",
        "* status – represents the status of a TCP connection.\n",
        "* pid – the PID of the process which opened the socket, if retrievable, else None."
      ],
      "metadata": {
        "id": "BD3MbSdUDIIk"
      }
    },
    {
      "cell_type": "code",
      "source": [
        "print(psutil.net_connections())"
      ],
      "metadata": {
        "id": "gqySXOxjC_Ov"
      },
      "execution_count": null,
      "outputs": []
    },
    {
      "cell_type": "markdown",
      "source": [
        "### Exploring Multiprocessing"
      ],
      "metadata": {
        "id": "22YK3vxQE_p4"
      }
    },
    {
      "cell_type": "markdown",
      "source": [
        "One of the key objectives for a developer is to make the code run faster. However, many tasks take time to be processed, even on fast computers with several cores. Partially it happens because of Python GIL (Python Global Interpreter Lock) that allows only one thread to take control over Python Interpreter, so we end up never using the whole power of the machine by just executing a function or method."
      ],
      "metadata": {
        "id": "M8zLCxSY8Xzu"
      }
    },
    {
      "cell_type": "markdown",
      "source": [
        "### Comparison between synchronous and multiprocessing code."
      ],
      "metadata": {
        "id": "6pGDCf348a3z"
      }
    },
    {
      "cell_type": "markdown",
      "source": [
        "The test in this case is a simple HTTP GET request from the public API, https://httpbin.org. They offer many API services but the one used here is `uuid`, which simply returns a unique 36 character string every time you make a GET request."
      ],
      "metadata": {
        "id": "YbhIW3XI8eHf"
      }
    },
    {
      "cell_type": "markdown",
      "source": [
        "Data fetching from the Internet can be done in various ways. Here to keep things simple `requests` module is used."
      ],
      "metadata": {
        "id": "wrXrjNj48hDB"
      }
    },
    {
      "cell_type": "markdown",
      "source": [
        "## Synchronous code"
      ],
      "metadata": {
        "id": "63DkUU0XpteE"
      }
    },
    {
      "cell_type": "markdown",
      "source": [
        "Synchronous code is a sequence of tasks that are done in a synchronous fashion or one after the other. What that means is that before task 3 is started, the machine has to wait for task 2 to finish, but prior to that, wait for task 1 to finish. This is not an efficient way of doing things but sometimes there is just no other way. Synchronous code is quite easy to understand and easy to write."
      ],
      "metadata": {
        "id": "9J35QBp0qcUG"
      }
    },
    {
      "cell_type": "code",
      "source": [
        "import time\n",
        "import requests\n",
        "\n",
        "URL = 'https://httpbin.org/uuid'\n",
        "\n",
        "t0 = time.time()\n",
        "\n",
        "for _ in range(300):\n",
        "    response = requests.get(URL)\n",
        "\n",
        "print(f'It took {time.time() - t0:.2f} s to finish the request')"
      ],
      "metadata": {
        "id": "Jf6ZVpfhpC83"
      },
      "execution_count": null,
      "outputs": []
    },
    {
      "cell_type": "markdown",
      "source": [
        "What the code does is that it starts 300 GET requests to the API in question and returns the result. Before starting the requests a time variable t0 is initialized that holds the start time. After exiting the 'for' loop, the time it took to finish all the requests is displayed."
      ],
      "metadata": {
        "id": "7BBFMWRNqiCo"
      }
    },
    {
      "cell_type": "markdown",
      "source": [
        "## Multiprocessing code"
      ],
      "metadata": {
        "id": "EiACNdqTqnWv"
      }
    },
    {
      "cell_type": "markdown",
      "source": [
        "A multiprocessing code is able to leverage modern CPUs by [spawning processes](https://docs.python.org/3/library/multiprocessing.html#contexts-and-start-methods). What that means is that if there are 8 cores in the CPU, 8 different processes can be spawned to attempt 8 different tasks simultaneously. An additional module called `ProcessPoolExecutor` is used here. It is a subclass that executes calls asynchronously using a pool object. One benefit of using a process pool executor is that it returns a generator object instead of a simple list containing the results. It is possible to iterate over results we can simple call __next__ on it."
      ],
      "metadata": {
        "id": "dRftjIWXo2Tc"
      }
    },
    {
      "cell_type": "code",
      "source": [
        "import time\n",
        "import requests\n",
        "from concurrent.futures import ProcessPoolExecutor\n",
        "\n",
        "def fetch(url):\n",
        "    response = requests.get(url)\n",
        "    return response.json()\n",
        "\n",
        "if __name__ == '__main__':\n",
        "\n",
        "    URL = 'https://httpbin.org/uuid'\n",
        "    t0 = time.time()\n",
        "\n",
        "    with ProcessPoolExecutor() as executor:\n",
        "        future = executor.map(fetch, [URL for _ in range(300)])\n",
        "\n",
        "    print(f'It took {time.time() - t0:.2f} secs to finish multiprocessing')"
      ],
      "metadata": {
        "id": "x8RmzXD-q4iM"
      },
      "execution_count": null,
      "outputs": []
    },
    {
      "cell_type": "markdown",
      "source": [
        "As seen from the above results, there is quite an improvement with few lines of code, in comparison with synchronous results."
      ],
      "metadata": {
        "id": "94iE25STq9ai"
      }
    }
  ]
}